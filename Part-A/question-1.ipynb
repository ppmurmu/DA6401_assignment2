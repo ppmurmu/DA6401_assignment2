{
  "cells": [
    {
      "cell_type": "code",
      "execution_count": null,
      "metadata": {
        "colab": {
          "base_uri": "https://localhost:8080/"
        },
        "id": "2APfY9R7e08-",
        "outputId": "0d4f9000-ad04-4f61-e8f5-6ba57f09cd5a"
      },
      "outputs": [
        {
          "name": "stdout",
          "output_type": "stream",
          "text": [
            "SimpleCNN(\n",
            "  (conv1): Conv2d(3, 32, kernel_size=(3, 3), stride=(1, 1), padding=(1, 1))\n",
            "  (act1): ReLU()\n",
            "  (pool1): MaxPool2d(kernel_size=2, stride=2, padding=0, dilation=1, ceil_mode=False)\n",
            "  (conv2): Conv2d(32, 32, kernel_size=(3, 3), stride=(1, 1), padding=(1, 1))\n",
            "  (act2): ReLU()\n",
            "  (pool2): MaxPool2d(kernel_size=2, stride=2, padding=0, dilation=1, ceil_mode=False)\n",
            "  (fc): Linear(in_features=2048, out_features=128, bias=True)\n",
            "  (out): Linear(in_features=128, out_features=10, bias=True)\n",
            ")\n",
            "Output shape: torch.Size([4, 10])\n"
          ]
        }
      ],
      "source": [
        "import torch\n",
        "import torch.nn as nn\n",
        "class SimpleCNN(nn.Module):\n",
        "    def __init__(\n",
        "        self,\n",
        "        num_classes: int,\n",
        "        num_filters: list[int],\n",
        "        filter_sizes: list[int],\n",
        "        activation_fn: nn.Module,\n",
        "        num_neurons_dense: int,\n",
        "        dropout_prob: float = 0.0,\n",
        "        use_batch_norm: bool = False\n",
        "    ):\n",
        "        super(SimpleCNN, self).__init__()\n",
        "        layers = []\n",
        "        in_channels = 3\n",
        "\n",
        "        # Build convolutional feature extractor\n",
        "        for out_ch, k in zip(num_filters, filter_sizes):\n",
        "            layers.append(nn.Conv2d(in_channels, out_ch, kernel_size=k, padding=k//2))\n",
        "            if use_batch_norm:\n",
        "                layers.append(nn.BatchNorm2d(out_ch))\n",
        "            layers.append(activation_fn)\n",
        "            if dropout_prob > 0.0:\n",
        "                layers.append(nn.Dropout2d(dropout_prob))\n",
        "            layers.append(nn.MaxPool2d(kernel_size=2, stride=2))\n",
        "            in_channels = out_ch\n",
        "\n",
        "        self.features = nn.Sequential(*layers)\n",
        "        # Global pooling to flatten spatial dims\n",
        "        self.pool = nn.AdaptiveAvgPool2d((1, 1))\n",
        "\n",
        "        # Classification head\n",
        "        self.classifier = nn.Sequential(\n",
        "            nn.Flatten(),\n",
        "            nn.Linear(in_channels, num_neurons_dense),\n",
        "            activation_fn,\n",
        "            nn.Dropout(dropout_prob) if dropout_prob > 0.0 else nn.Identity(),\n",
        "            nn.Linear(num_neurons_dense, num_classes)\n",
        "        )\n",
        "\n",
        "    def forward(self, x):\n",
        "        x = self.features(x)\n",
        "        x = self.pool(x)\n",
        "        x = self.classifier(x)\n",
        "        return x\n"
      ]
    }
  ],
  "metadata": {
    "colab": {
      "provenance": [],
      "toc_visible": true
    },
    "kernelspec": {
      "display_name": "Python 3",
      "name": "python3"
    },
    "language_info": {
      "name": "python"
    }
  },
  "nbformat": 4,
  "nbformat_minor": 0
}
